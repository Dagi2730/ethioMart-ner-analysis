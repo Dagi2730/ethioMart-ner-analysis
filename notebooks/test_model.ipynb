{
 "cells": [
  {
   "cell_type": "code",
   "execution_count": 7,
   "id": "be9140ce",
   "metadata": {},
   "outputs": [],
   "source": [
    "import spacy\n",
    "from spacy import displacy\n"
   ]
  },
  {
   "cell_type": "code",
   "execution_count": 2,
   "id": "66fbdfc3",
   "metadata": {},
   "outputs": [],
   "source": [
    "# Load the trained model from the output directory\n",
    "nlp = spacy.load(\"output/model-last\")\n"
   ]
  },
  {
   "cell_type": "code",
   "execution_count": 3,
   "id": "c98085ad",
   "metadata": {},
   "outputs": [],
   "source": [
    "# Provide a sample Amharic sentence to test\n",
    "text = \"አዲስ ኮምቦ እና ግብረ መንገድ እንዲሁም እናቱ የዕፀ ህይወት ናት\"\n"
   ]
  },
  {
   "cell_type": "code",
   "execution_count": 4,
   "id": "2374cf16",
   "metadata": {},
   "outputs": [],
   "source": [
    "# Process the text using the trained pipeline\n",
    "doc = nlp(text)\n"
   ]
  },
  {
   "cell_type": "code",
   "execution_count": 5,
   "id": "b4e08cde",
   "metadata": {},
   "outputs": [
    {
     "name": "stdout",
     "output_type": "stream",
     "text": [
      "Entity: አዲስ ኮምቦ, Label: LOC\n",
      "Entity: እና ግብረ, Label: LOC\n",
      "Entity: መንገድ እንዲሁም, Label: ORG\n",
      "Entity: እናቱ የዕፀ, Label: LOC\n"
     ]
    }
   ],
   "source": [
    "# Print out the named entities detected\n",
    "for ent in doc.ents:\n",
    "    print(f\"Entity: {ent.text}, Label: {ent.label_}\")\n"
   ]
  },
  {
   "cell_type": "code",
   "execution_count": 8,
   "id": "5e6a09dc",
   "metadata": {},
   "outputs": [
    {
     "data": {
      "text/html": [
       "<span class=\"tex2jax_ignore\"><div class=\"entities\" style=\"line-height: 2.5; direction: ltr\">\n",
       "<mark class=\"entity\" style=\"background: #ff9561; padding: 0.45em 0.6em; margin: 0 0.25em; line-height: 1; border-radius: 0.35em;\">\n",
       "    አዲስ ኮምቦ\n",
       "    <span style=\"font-size: 0.8em; font-weight: bold; line-height: 1; border-radius: 0.35em; vertical-align: middle; margin-left: 0.5rem\">LOC</span>\n",
       "</mark>\n",
       " \n",
       "<mark class=\"entity\" style=\"background: #ff9561; padding: 0.45em 0.6em; margin: 0 0.25em; line-height: 1; border-radius: 0.35em;\">\n",
       "    እና ግብረ\n",
       "    <span style=\"font-size: 0.8em; font-weight: bold; line-height: 1; border-radius: 0.35em; vertical-align: middle; margin-left: 0.5rem\">LOC</span>\n",
       "</mark>\n",
       " \n",
       "<mark class=\"entity\" style=\"background: #7aecec; padding: 0.45em 0.6em; margin: 0 0.25em; line-height: 1; border-radius: 0.35em;\">\n",
       "    መንገድ እንዲሁም\n",
       "    <span style=\"font-size: 0.8em; font-weight: bold; line-height: 1; border-radius: 0.35em; vertical-align: middle; margin-left: 0.5rem\">ORG</span>\n",
       "</mark>\n",
       " \n",
       "<mark class=\"entity\" style=\"background: #ff9561; padding: 0.45em 0.6em; margin: 0 0.25em; line-height: 1; border-radius: 0.35em;\">\n",
       "    እናቱ የዕፀ\n",
       "    <span style=\"font-size: 0.8em; font-weight: bold; line-height: 1; border-radius: 0.35em; vertical-align: middle; margin-left: 0.5rem\">LOC</span>\n",
       "</mark>\n",
       " ህይወት ናት</div></span>"
      ],
      "text/plain": [
       "<IPython.core.display.HTML object>"
      ]
     },
     "metadata": {},
     "output_type": "display_data"
    }
   ],
   "source": [
    "displacy.render(doc, style=\"ent\", jupyter=True, options={\"direction\": \"rtl\"})\n"
   ]
  },
  {
   "cell_type": "code",
   "execution_count": 9,
   "id": "4f0db53e",
   "metadata": {},
   "outputs": [],
   "source": [
    "test_texts = [\n",
    "    \"ድንግል ማርያም በኢትዮጵያ ተከታታይ የሰላም መልእክት ሰጠች\",\n",
    "    \"በአዲስ አበባ አለም አቀፍ ንግድ አውደ ገበያ ተካሄደ\",\n",
    "    \"እርሻ እና ግብረ መሬት ከፍ ያለ ተጽዕኖ አሳየ\"\n",
    "]\n"
   ]
  },
  {
   "cell_type": "code",
   "execution_count": 10,
   "id": "fea9d47f",
   "metadata": {},
   "outputs": [
    {
     "name": "stdout",
     "output_type": "stream",
     "text": [
      "\n",
      "Text: ድንግል ማርያም በኢትዮጵያ ተከታታይ የሰላም መልእክት ሰጠች\n",
      "  → Entity: በኢትዮጵያ ተከታታይ | Label: ORG\n",
      "\n",
      "Text: በአዲስ አበባ አለም አቀፍ ንግድ አውደ ገበያ ተካሄደ\n",
      "  → Entity: በአዲስ አበባ | Label: LOC\n",
      "  → Entity: አለም አቀፍ | Label: LOC\n",
      "  → Entity: ንግድ አውደ | Label: LOC\n",
      "  → Entity: ገበያ ተካሄደ | Label: LOC\n",
      "\n",
      "Text: እርሻ እና ግብረ መሬት ከፍ ያለ ተጽዕኖ አሳየ\n",
      "  → Entity: እርሻ እና | Label: PER\n",
      "  → Entity: ግብረ መሬት | Label: LOC\n",
      "  → Entity: ያለ ተጽዕኖ | Label: ORG\n"
     ]
    }
   ],
   "source": [
    "for text in test_texts:\n",
    "    doc = nlp(text)\n",
    "    print(f\"\\nText: {text}\")\n",
    "    for ent in doc.ents:\n",
    "        print(f\"  → Entity: {ent.text} | Label: {ent.label_}\")\n"
   ]
  },
  {
   "cell_type": "code",
   "execution_count": 11,
   "id": "a7d52a08",
   "metadata": {},
   "outputs": [
    {
     "data": {
      "text/html": [
       "<span class=\"tex2jax_ignore\"><div class=\"entities\" style=\"line-height: 2.5; direction: ltr\">ድንግል ማርያም \n",
       "<mark class=\"entity\" style=\"background: #7aecec; padding: 0.45em 0.6em; margin: 0 0.25em; line-height: 1; border-radius: 0.35em;\">\n",
       "    በኢትዮጵያ ተከታታይ\n",
       "    <span style=\"font-size: 0.8em; font-weight: bold; line-height: 1; border-radius: 0.35em; vertical-align: middle; margin-left: 0.5rem\">ORG</span>\n",
       "</mark>\n",
       " የሰላም መልእክት ሰጠች</div></span>"
      ],
      "text/plain": [
       "<IPython.core.display.HTML object>"
      ]
     },
     "metadata": {},
     "output_type": "display_data"
    }
   ],
   "source": [
    "displacy.render(nlp(test_texts[0]), style=\"ent\", jupyter=True, options={\"direction\": \"rtl\"})\n"
   ]
  },
  {
   "cell_type": "code",
   "execution_count": 12,
   "id": "c32e40c0",
   "metadata": {},
   "outputs": [
    {
     "data": {
      "text/html": [
       "<div>\n",
       "<style scoped>\n",
       "    .dataframe tbody tr th:only-of-type {\n",
       "        vertical-align: middle;\n",
       "    }\n",
       "\n",
       "    .dataframe tbody tr th {\n",
       "        vertical-align: top;\n",
       "    }\n",
       "\n",
       "    .dataframe thead th {\n",
       "        text-align: right;\n",
       "    }\n",
       "</style>\n",
       "<table border=\"1\" class=\"dataframe\">\n",
       "  <thead>\n",
       "    <tr style=\"text-align: right;\">\n",
       "      <th></th>\n",
       "      <th>text</th>\n",
       "      <th>entity</th>\n",
       "      <th>label</th>\n",
       "    </tr>\n",
       "  </thead>\n",
       "  <tbody>\n",
       "    <tr>\n",
       "      <th>0</th>\n",
       "      <td>ድንግል ማርያም በኢትዮጵያ ተከታታይ የሰላም መልእክት ሰጠች</td>\n",
       "      <td>በኢትዮጵያ ተከታታይ</td>\n",
       "      <td>ORG</td>\n",
       "    </tr>\n",
       "    <tr>\n",
       "      <th>1</th>\n",
       "      <td>በአዲስ አበባ አለም አቀፍ ንግድ አውደ ገበያ ተካሄደ</td>\n",
       "      <td>በአዲስ አበባ</td>\n",
       "      <td>LOC</td>\n",
       "    </tr>\n",
       "    <tr>\n",
       "      <th>2</th>\n",
       "      <td>በአዲስ አበባ አለም አቀፍ ንግድ አውደ ገበያ ተካሄደ</td>\n",
       "      <td>አለም አቀፍ</td>\n",
       "      <td>LOC</td>\n",
       "    </tr>\n",
       "    <tr>\n",
       "      <th>3</th>\n",
       "      <td>በአዲስ አበባ አለም አቀፍ ንግድ አውደ ገበያ ተካሄደ</td>\n",
       "      <td>ንግድ አውደ</td>\n",
       "      <td>LOC</td>\n",
       "    </tr>\n",
       "    <tr>\n",
       "      <th>4</th>\n",
       "      <td>በአዲስ አበባ አለም አቀፍ ንግድ አውደ ገበያ ተካሄደ</td>\n",
       "      <td>ገበያ ተካሄደ</td>\n",
       "      <td>LOC</td>\n",
       "    </tr>\n",
       "  </tbody>\n",
       "</table>\n",
       "</div>"
      ],
      "text/plain": [
       "                                    text        entity label\n",
       "0  ድንግል ማርያም በኢትዮጵያ ተከታታይ የሰላም መልእክት ሰጠች  በኢትዮጵያ ተከታታይ   ORG\n",
       "1      በአዲስ አበባ አለም አቀፍ ንግድ አውደ ገበያ ተካሄደ      በአዲስ አበባ   LOC\n",
       "2      በአዲስ አበባ አለም አቀፍ ንግድ አውደ ገበያ ተካሄደ       አለም አቀፍ   LOC\n",
       "3      በአዲስ አበባ አለም አቀፍ ንግድ አውደ ገበያ ተካሄደ       ንግድ አውደ   LOC\n",
       "4      በአዲስ አበባ አለም አቀፍ ንግድ አውደ ገበያ ተካሄደ      ገበያ ተካሄደ   LOC"
      ]
     },
     "execution_count": 12,
     "metadata": {},
     "output_type": "execute_result"
    }
   ],
   "source": [
    "results = []\n",
    "\n",
    "for text in test_texts:\n",
    "    doc = nlp(text)\n",
    "    for ent in doc.ents:\n",
    "        results.append({\n",
    "            \"text\": text,\n",
    "            \"entity\": ent.text,\n",
    "            \"label\": ent.label_\n",
    "        })\n",
    "\n",
    "import pandas as pd\n",
    "df_results = pd.DataFrame(results)\n",
    "df_results.head()\n"
   ]
  },
  {
   "cell_type": "code",
   "execution_count": 13,
   "id": "bbdf48b0",
   "metadata": {},
   "outputs": [
    {
     "name": "stdout",
     "output_type": "stream",
     "text": [
      "NER predictions saved to data/ner_predictions.csv ✅\n"
     ]
    }
   ],
   "source": [
    "df_results.to_csv(\"data/ner_predictions.csv\", index=False, encoding=\"utf-8-sig\")\n",
    "print(\"NER predictions saved to data/ner_predictions.csv ✅\")\n"
   ]
  }
 ],
 "metadata": {
  "kernelspec": {
   "display_name": ".venv (3.10.11)",
   "language": "python",
   "name": "python3"
  },
  "language_info": {
   "codemirror_mode": {
    "name": "ipython",
    "version": 3
   },
   "file_extension": ".py",
   "mimetype": "text/x-python",
   "name": "python",
   "nbconvert_exporter": "python",
   "pygments_lexer": "ipython3",
   "version": "3.10.11"
  }
 },
 "nbformat": 4,
 "nbformat_minor": 5
}
