{
 "cells": [
  {
   "cell_type": "code",
   "execution_count": 1,
   "id": "2d027416",
   "metadata": {},
   "outputs": [],
   "source": [
    "import pandas as pd"
   ]
  },
  {
   "cell_type": "code",
   "execution_count": 2,
   "id": "8fc9c3dc",
   "metadata": {},
   "outputs": [],
   "source": [
    "\n",
    "def load_channel_list(filepath=\"channels_to_crawl.xlsx\"):\n",
    "    df = pd.read_excel(filepath)\n",
    "    print(\"Loaded channels:\", df.shape)\n",
    "    if \"username\" in df.columns:\n",
    "        return df[\"username\"].dropna().unique().tolist()\n",
    "    elif \"channel\" in df.columns:\n",
    "        return df[\"channel\"].dropna().unique().tolist()\n",
    "    else:\n",
    "        raise ValueError(\"Expected a column like 'username' or 'channel' in the Excel file.\")\n"
   ]
  }
 ],
 "metadata": {
  "kernelspec": {
   "display_name": "Python 3",
   "language": "python",
   "name": "python3"
  },
  "language_info": {
   "codemirror_mode": {
    "name": "ipython",
    "version": 3
   },
   "file_extension": ".py",
   "mimetype": "text/x-python",
   "name": "python",
   "nbconvert_exporter": "python",
   "pygments_lexer": "ipython3",
   "version": "3.12.0"
  }
 },
 "nbformat": 4,
 "nbformat_minor": 5
}
